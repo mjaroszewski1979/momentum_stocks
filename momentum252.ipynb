{
 "cells": [
  {
   "cell_type": "code",
   "execution_count": 5,
   "metadata": {},
   "outputs": [],
   "source": [
    "import pandas_datareader.data as web\n",
    "import pandas as pd\n",
    "import datetime \n",
    "from threading import Thread\n",
    "\n",
    "\n",
    "\n",
    "\n",
    "class YahooData:\n",
    "    def __init__(self):\n",
    "        self.results = {}\n",
    "        self.symbols = self.symbols = ['ABNB', 'AFRM', 'AGL', 'AI', 'AMC', 'AMD', 'APP', 'ATC', 'BB', 'BBY', 'BHG', 'BIIB', 'BMBL', 'BNGO',\n",
    "               'BNL', 'BYND', 'BZ', 'CCCC', 'CFLT', 'CLNE', 'CLOV', 'COIN', 'COMP', 'COUR', 'CPNG', 'CRM', 'CRSR',\n",
    "               'CVAC', 'DASH', 'DIDI', 'DKNG', 'DLO', 'DNUT', 'DOCN', 'DOCS', 'ETSY', 'FCEL', 'FIGS', 'FROG', 'FSLY',\n",
    "               'FUBO', 'GEVO', 'GH', 'GLBE', 'GME', 'LFST', 'LI', 'LMND', 'LU', 'LYFT', 'LZ']\n",
    "    \n",
    "    def get_data(self, symbol):\n",
    "        df = web.DataReader(symbol, 'yahoo', start='2021-03-23', end='2022-05-24')\n",
    "        data = df['Adj Close'].pct_change(252).tolist()[-1]\n",
    "        self.results[symbol] = data\n",
    "\n",
    "    \n",
    "    def get_results(self):\n",
    "        threads = []\n",
    "        for x in self.symbols:\n",
    "            threads.append(Thread(target=self.get_data, args=[x]))\n",
    "            \n",
    "        for thread in threads:\n",
    "            thread.start()\n",
    "\n",
    "        for thread in threads:\n",
    "            thread.join()\n",
    "\n",
    "        return self.results\n",
    "        "
   ]
  },
  {
   "cell_type": "code",
   "execution_count": 6,
   "metadata": {},
   "outputs": [
    {
     "data": {
      "text/plain": [
       "[('FUBO', -0.857619047164917),\n",
       " ('CVAC', -0.8404945011238631),\n",
       " ('CCCC', -0.8149855926472866),\n",
       " ('BYND', -0.8082901568444325),\n",
       " ('FSLY', -0.7631055019900383),\n",
       " ('COIN', -0.7468751302199554),\n",
       " ('LMND', -0.7398106553936992),\n",
       " ('BNGO', -0.7262773732154826),\n",
       " ('DKNG', -0.7209830495708978),\n",
       " ('AI', -0.707325497210651),\n",
       " ('GH', -0.701362183121848),\n",
       " ('LYFT', -0.6830932553966653),\n",
       " ('CPNG', -0.678873927769742),\n",
       " ('CLOV', -0.633903142418014),\n",
       " ('AFRM', -0.6158401207036832),\n",
       " ('COMP', -0.609792254636145),\n",
       " ('FCEL', -0.5950118699605051),\n",
       " ('COUR', -0.5892664835447465),\n",
       " ('ETSY', -0.5797066878070083),\n",
       " ('GME', -0.5743207532653067),\n",
       " ('FROG', -0.5443558860514891),\n",
       " ('CRSR', -0.54303799347892),\n",
       " ('DASH', -0.5401776041473627),\n",
       " ('LU', -0.5367412157610367),\n",
       " ('APP', -0.5265189367143059),\n",
       " ('GEVO', -0.48773448192604785),\n",
       " ('GLBE', -0.46904837933526755),\n",
       " ('AGL', -0.4560185622101931),\n",
       " ('CLNE', -0.37483618487782533),\n",
       " ('AMC', -0.36684945521426815),\n",
       " ('BMBL', -0.3606557196134943),\n",
       " ('BBY', -0.33954472091380905),\n",
       " ('BB', -0.3317811793764769),\n",
       " ('BIIB', -0.2593162031648105),\n",
       " ('ABNB', -0.20710505628578613),\n",
       " ('ATC', -0.12091360376911908),\n",
       " ('AMD', 0.17081945732722703),\n",
       " ('BHG', nan),\n",
       " ('BZ', nan),\n",
       " ('CFLT', nan),\n",
       " ('DOCS', nan),\n",
       " ('FIGS', nan),\n",
       " ('DIDI', nan),\n",
       " ('DLO', nan),\n",
       " ('CRM', -0.31083400795392246),\n",
       " ('BNL', -0.014179660014018491),\n",
       " ('DOCN', 0.03245815623214998),\n",
       " ('DNUT', nan),\n",
       " ('LI', 0.0885442960495173),\n",
       " ('LFST', nan),\n",
       " ('LZ', nan)]"
      ]
     },
     "execution_count": 6,
     "metadata": {},
     "output_type": "execute_result"
    }
   ],
   "source": [
    "\n",
    "new = YahooData()\n",
    "res = new.get_results()\n",
    "sorted_results = sorted(res.items(), key=lambda x: x[1]) \n",
    "sorted_results"
   ]
  },
  {
   "cell_type": "code",
   "execution_count": null,
   "metadata": {},
   "outputs": [],
   "source": [
    "self.symbols = ['BP.L', 'GSK.L', 'BA.L', 'GLEN.L', 'SHEL.L', 'EMG.L', 'CNA.L', 'ABDN.L', \n",
    "                'AGR.L', 'AV.L', 'BARC.L', 'BDEV.L', 'BRBY.L', 'BT-A.L', 'CEY.L', 'CINE.L', 'DGE.L', 'EZJ.L',\n",
    "               'FRAS.L', 'HBR.L', 'HMSO.L', 'HSBA.L', 'IAG.L', 'III.L', 'IWG.L', 'LGEN.L', 'LLOY.L', 'LSEG.L',\n",
    "               'NWG.L', 'QLT.L', 'RCH.L', 'RIO.L', 'RR.L', 'SBRY.L', 'SPI.L', 'STAN.L', 'TLW.L', 'TSCO.L', 'ULVR.L', 'VOD.L',\n",
    "               'AIR.PA', 'AF.PA', 'AI.PA', 'CS.PA', 'BNP.PA', 'BOL.PA', 'EN.PA', 'ACA.PA', 'CA.PA', 'BN.PA', 'ENGI.PA',\n",
    "               'MC.PA', 'ORA.PA', 'OR.PA', 'RNO.PA', 'GLE.PA', 'STM.PA', 'ADS.DE', 'ALV.DE', 'BAS.DE', 'BMW.DE', 'BOSS.DE',\n",
    "               'CBK.DE', 'DBK.DE', 'DPW.DE', 'DTE.DE', 'EOAN.DE', 'LHA.DE', 'LIN.DE', 'MBG.DE', 'PUM.DE', 'SAP.DE', 'SIE.DE',\n",
    "               'TUI1.DE', 'VNA.DE', 'VOW3.DE']\n",
    "\n",
    "self.symbols = ['MMM', 'AIG', 'T', 'ANF', 'ADBE', 'AA', 'BABA', 'MO', 'AMZN', 'AXP', 'AAPL', 'BIDU', 'BA', 'BAC', 'BMY', 'CAT', 'CVX',\n",
    "         'CSCO', 'C', 'KO', 'CMCSA', 'COP', 'COST', 'DIS', 'EBAY', 'XOM', 'FB', 'FDX', 'RACE', 'F', 'GE', 'GM', 'GS', 'GOOG',\n",
    "         'HPE', 'HAL', 'HOG', 'HD', 'HON', 'IBM', 'INTC', 'JNJ', 'JPM', 'KHC', 'LVS', 'MS', 'MGM', 'MA', 'MCD', 'MSFT', 'MCO',\n",
    "         'MSI', 'NFLX', 'NKE', 'NVS', 'NVDA', 'ORCL', 'PG', 'PZZA', 'PEP', 'PBR', 'PFE', 'PM', 'QCOM', 'SCHW', 'SHAK',\n",
    "         'SBUX', 'TSLA', 'TM', 'TRIP', 'TWTR', 'UPS', 'VALE', 'VZ', 'V', 'WMT', 'WFC', 'YNDX', 'YUM']\n",
    "\n",
    "self.symbols = ['ABNB', 'AFRM', 'AGL', 'AI', 'AMC', 'AMD', 'APP', 'ATC', 'BB', 'BBY', 'BHG', 'BIIB', 'BMBL', 'BNGO',\n",
    "               'BNL', 'BYND', 'BZ', 'CCCC', 'CFLT', 'CLNE', 'CLOV', 'COIN', 'COMP', 'COUR', 'CPNG', 'CRM', 'CRSR',\n",
    "               'CVAC', 'DASH', 'DIDI', 'DKNG', 'DLO', 'DNUT', 'DOCN', 'DOCS', 'ETSY', 'FCEL', 'FIGS', 'FROG', 'FSLY',\n",
    "               'FUBO', 'GEVO', 'GH', 'GLBE', 'GME', 'LFST', 'LI', 'LMND', 'LU', 'LYFT', 'LZ']"
   ]
  }
 ],
 "metadata": {
  "kernelspec": {
   "display_name": "Python 3",
   "language": "python",
   "name": "python3"
  },
  "language_info": {
   "codemirror_mode": {
    "name": "ipython",
    "version": 3
   },
   "file_extension": ".py",
   "mimetype": "text/x-python",
   "name": "python",
   "nbconvert_exporter": "python",
   "pygments_lexer": "ipython3",
   "version": "3.7.7"
  }
 },
 "nbformat": 4,
 "nbformat_minor": 4
}
