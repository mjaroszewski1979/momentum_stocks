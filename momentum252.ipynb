{
 "cells": [
  {
   "cell_type": "code",
   "execution_count": 11,
   "metadata": {},
   "outputs": [],
   "source": [
    "import pandas_datareader.data as web\n",
    "from datetime import date, timedelta, datetime\n",
    "from threading import Thread\n",
    "import talib\n",
    "\n",
    "\n",
    "\n",
    "\n",
    "class YahooData:\n",
    "    def __init__(self):\n",
    "        self.results = []\n",
    "        self.symbols = ['MMM', 'AIG', 'T', 'ANF', 'ADBE', 'AA', 'BABA', 'MO', 'AMZN', 'AXP', 'AAPL', 'BIDU', 'BA', 'BAC', 'BMY', 'CAT', 'CVX',\n",
    "         'CSCO', 'C', 'KO', 'CMCSA', 'COP', 'COST', 'DIS', 'EBAY', 'XOM', 'FB', 'FDX', 'RACE', 'F', 'GE', 'GM', 'GS', 'GOOG',\n",
    "         'HPE', 'HAL', 'HOG', 'HD', 'HON', 'IBM', 'INTC', 'JNJ', 'JPM', 'KHC', 'LVS', 'MS', 'MGM', 'MA', 'MCD', 'META', 'MSFT', 'MCO',\n",
    "         'MSI', 'NFLX', 'NKE', 'NVS', 'NVDA', 'ORCL', 'PG', 'PZZA', 'PEP', 'PBR', 'PFE', 'PM', 'QCOM', 'SCHW', 'SHAK',\n",
    "         'SBUX', 'TSLA', 'TM', 'TRIP', 'TWTR', 'UPS', 'VALE', 'VZ', 'V', 'WMT', 'WFC', 'YNDX', 'YUM', 'ABNB', 'AFRM', 'AGL', 'AI', 'AMC', 'AMD', 'APP', 'ATC', 'BB', 'BBY', 'BHG', 'BIIB', 'BMBL', 'BNGO',\n",
    "               'BNL', 'BYND', 'BZ', 'CCCC', 'CFLT', 'CLNE', 'CLOV', 'COIN', 'COMP', 'COUR', 'CPNG', 'CRM', 'CRSR',\n",
    "               'CVAC', 'DASH', 'DIDI', 'DKNG', 'DLO', 'DNUT', 'DOCN', 'DOCS', 'ETSY', 'FCEL', 'FIGS', 'FROG', 'FSLY',\n",
    "               'FUBO', 'GEVO', 'GH', 'GLBE', 'GME', 'LFST', 'LI', 'LLY', 'LMND', 'LU', 'LYFT', 'LZ', 'MCW', 'MNDY', 'MQ', 'MRNA',\n",
    "               'MRVL', 'MSTR', 'MVIS', 'NIO', 'NKLA', 'NOK', 'OCGN', 'OLO', 'OSCR', 'OSH', 'OTLY', 'OZON', 'PATH',\n",
    "               'PCOR', 'PENN', 'PLAY', 'PLTR', 'PLUG', 'PRVA', 'PTON', 'RBLX', 'RERE', 'RKT', 'RLX', 'ROKU', 'ROOT',\n",
    "               'S', 'SFIX', 'SGFY', 'SIRI', 'SKLZ', 'SNAP', 'SNOW', 'SPCE', 'SQ', 'SQSP', 'SUMO', 'SWIM', 'THRY', 'TIXT', 'TLRY',\n",
    "               'TUYA', 'U', 'UBER', 'VERV', 'VXRT', 'WEN', 'WISH', 'WKHS', 'WKME', 'XMTR', 'XPEV', 'YMM', 'YOU', 'ZH',\n",
    "               'ZIP', 'ZM']\n",
    "    \n",
    "    def get_data(self, symbol):\n",
    "        start = (datetime.now()-timedelta(days=400)).strftime(\"%Y-%m-%d\")\n",
    "        end = (datetime.now()-timedelta(days=1)).strftime(\"%Y-%m-%d\")\n",
    "        df = web.DataReader(symbol, 'yahoo', start=start, end=end)\n",
    "        close = df['Adj Close']\n",
    "        high = df['High']\n",
    "        low = df['Low']\n",
    "        atr_val = talib.ATR(high, low, close, timeperiod=20)\n",
    "        atr_2x = atr_val[-1] * 2\n",
    "        sma200 = talib.SMA(close, 200)\n",
    "        if close[-1] > sma200[-1] and close[-1] < (sma200[-1] + atr_2x):\n",
    "            self.results.append(symbol)\n",
    "\n",
    "    \n",
    "    def get_results(self):\n",
    "        threads = []\n",
    "        for x in self.symbols:\n",
    "            threads.append(Thread(target=self.get_data, args=[x]))\n",
    "            \n",
    "        for thread in threads:\n",
    "            thread.start()\n",
    "\n",
    "        for thread in threads:\n",
    "            thread.join()\n",
    "\n",
    "        return self.results"
   ]
  }
 ],
 "metadata": {
  "kernelspec": {
   "display_name": "Python 3",
   "language": "python",
   "name": "python3"
  },
  "language_info": {
   "codemirror_mode": {
    "name": "ipython",
    "version": 3
   },
   "file_extension": ".py",
   "mimetype": "text/x-python",
   "name": "python",
   "nbconvert_exporter": "python",
   "pygments_lexer": "ipython3",
   "version": "3.7.7"
  }
 },
 "nbformat": 4,
 "nbformat_minor": 4
}
