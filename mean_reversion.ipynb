{
 "cells": [
  {
   "cell_type": "code",
   "execution_count": 12,
   "metadata": {},
   "outputs": [],
   "source": [
    "import pandas_datareader.data as web\n",
    "import pandas as pd\n",
    "import datetime \n",
    "from threading import Thread\n",
    "import talib\n",
    "\n",
    "\n",
    "\n",
    "\n",
    "class YahooData:\n",
    "    def __init__(self):\n",
    "        self.results = []\n",
    "        self.symbols = self.symbols = ['BP.L', 'GSK.L', 'BA.L', 'GLEN.L', 'SHEL.L', 'EMG.L', 'CNA.L', 'ABDN.L', \n",
    "                'AGR.L', 'AV.L', 'BARC.L', 'BDEV.L', 'BRBY.L', 'BT-A.L', 'CEY.L', 'CINE.L', 'DGE.L', 'EZJ.L',\n",
    "               'FRAS.L', 'HBR.L', 'HMSO.L', 'HSBA.L', 'IAG.L', 'III.L', 'IWG.L', 'LGEN.L', 'LLOY.L', 'LSEG.L',\n",
    "               'NWG.L', 'QLT.L', 'RCH.L', 'RIO.L', 'RR.L', 'SBRY.L', 'SPI.L', 'STAN.L', 'TLW.L', 'TSCO.L', 'ULVR.L', 'VOD.L',\n",
    "               'AIR.PA', 'AF.PA', 'AI.PA', 'CS.PA', 'BNP.PA', 'BOL.PA', 'EN.PA', 'ACA.PA', 'CA.PA', 'BN.PA', 'ENGI.PA',\n",
    "               'MC.PA', 'ORA.PA', 'OR.PA', 'RNO.PA', 'GLE.PA', 'STM.PA', 'ADS.DE', 'ALV.DE', 'BAS.DE', 'BMW.DE', 'BOSS.DE',\n",
    "               'CBK.DE', 'DBK.DE', 'DPW.DE', 'DTE.DE', 'EOAN.DE', 'LHA.DE', 'LIN.DE', 'MBG.DE', 'PUM.DE', 'SAP.DE', 'SIE.DE',\n",
    "               'TUI1.DE', 'VNA.DE', 'VOW3.DE', 'MMM', 'AIG', 'T', 'ANF', 'ADBE', 'AA', 'BABA', 'MO', 'AMZN', 'AXP', 'AAPL', 'BIDU', 'BA', 'BAC', 'BMY', 'CAT', 'CVX',\n",
    "         'CSCO', 'C', 'KO', 'CMCSA', 'COP', 'COST', 'DIS', 'EBAY', 'XOM', 'FB', 'FDX', 'RACE', 'F', 'GE', 'GM', 'GS', 'GOOG',\n",
    "         'HPE', 'HAL', 'HOG', 'HD', 'HON', 'IBM', 'INTC', 'JNJ', 'JPM', 'KHC', 'LVS', 'MS', 'MGM', 'MA', 'MCD', 'MSFT', 'MCO',\n",
    "         'MSI', 'NFLX', 'NKE', 'NVS', 'NVDA', 'ORCL', 'PG', 'PZZA', 'PEP', 'PBR', 'PFE', 'PM', 'QCOM', 'SCHW', 'SHAK',\n",
    "         'SBUX', 'TSLA', 'TM', 'TRIP', 'TWTR', 'UPS', 'VALE', 'VZ', 'V', 'WMT', 'WFC', 'YNDX', 'YUM', 'ABNB', 'AFRM', 'AGL', 'AI', 'AMC', 'AMD', 'APP', 'ATC', 'BB', 'BBY', 'BHG', 'BIIB', 'BMBL', 'BNGO',\n",
    "               'BNL', 'BYND', 'BZ', 'CCCC', 'CFLT', 'CLNE', 'CLOV', 'COIN', 'COMP', 'COUR', 'CPNG', 'CRM', 'CRSR',\n",
    "               'CVAC', 'DASH', 'DIDI', 'DKNG', 'DLO', 'DNUT', 'DOCN', 'DOCS', 'ETSY', 'FCEL', 'FIGS', 'FROG', 'FSLY',\n",
    "               'FUBO', 'GEVO', 'GH', 'GLBE', 'GME', 'LFST', 'LI', 'LMND', 'LU', 'LYFT', 'LZ', 'MCW', 'MNDY', 'MQ', 'MRNA',\n",
    "               'MRVL', 'MSTR', 'MVIS', 'NIO', 'NKLA', 'NOK', 'OCGN', 'OLO', 'OSCR', 'OSH', 'OTLY', 'OZON', 'PATH',\n",
    "               'PCOR', 'PENN', 'PLAY', 'PLTR', 'PLUG', 'PRVA', 'PTON', 'RBLX', 'RERE', 'RKT', 'RLX', 'ROKU', 'ROOT',\n",
    "               'S', 'SFIX', 'SIRI', 'SKLZ', 'SNAP', 'SNOW', 'SPCE', 'SQ', 'SQSP', 'SUMO', 'SWIM', 'THRY', 'TIXT', 'TLRY',\n",
    "               'TUYA', 'U', 'UBER', 'VERV', 'VXRT', 'WEN', 'WISH', 'WKHS', 'WKME', 'XMTR', 'XPEV', 'YMM', 'YOU', 'ZH',\n",
    "               'ZIP', 'ZM']\n",
    "    \n",
    "    def get_data(self, symbol):\n",
    "        df = web.DataReader(symbol, 'yahoo', start='2021-03-23', end='2022-06-03')\n",
    "        opening = df['Open']\n",
    "        close = df['Adj Close']\n",
    "        high = df['High']\n",
    "        low = df['Low']\n",
    "        atr = talib.ATR(high, low, close, timeperiod=20)\n",
    "        rsi = talib.RSI(close, timeperiod=2)\n",
    "        upperband, middleband, lowerband = talib.BBANDS(close, timeperiod=20, nbdevup=2, nbdevdn=2, matype=0)\n",
    "        sma200 = talib.SMA(close, 200)\n",
    "        sma100 = talib.SMA(close, 100)\n",
    "        sma50 = talib.SMA(close, 50)\n",
    "        sma5 = talib.SMA(close, 5)\n",
    "        roc5 = talib.ROCP(close, timeperiod=5)\n",
    "        if close[-1] > sma200[-1] and rsi[-1] < 10:\n",
    "            self.results.append(symbol)\n",
    "        elif sma50[-1] > sma200[-1] and low[-1] < lowerband[-1]:\n",
    "            self.results.append(symbol)\n",
    "        elif sma50[-1] > sma100[-1] and close[-1] < (high[-2] - (2 * atr[-1])):\n",
    "            self.results.append(symbol)\n",
    "        elif sma100[-1] > sma200[-1] and close[-1] < (sma5[-1] - (sma5[-1] / 10)):\n",
    "            self.results.append(symbol)\n",
    "        elif close[-1] > sma100[-1] and roc5[-1] < -10:\n",
    "            self.results.append(symbol)\n",
    "            \n",
    "\n",
    "    \n",
    "    def get_results(self):\n",
    "        threads = []\n",
    "        for x in self.symbols:\n",
    "            threads.append(Thread(target=self.get_data, args=[x]))\n",
    "            \n",
    "        for thread in threads:\n",
    "            thread.start()\n",
    "\n",
    "        for thread in threads:\n",
    "            thread.join()\n",
    "\n",
    "        return self.results"
   ]
  },
  {
   "cell_type": "code",
   "execution_count": 13,
   "metadata": {},
   "outputs": [
    {
     "data": {
      "text/plain": [
       "['HBR.L', 'GSK.L', 'ORA.PA', 'T', 'LSEG.L', 'BMY', 'NVS', 'JNJ']"
      ]
     },
     "execution_count": 13,
     "metadata": {},
     "output_type": "execute_result"
    }
   ],
   "source": [
    "new = YahooData()\n",
    "res = new.get_results()\n",
    "res"
   ]
  },
  {
   "cell_type": "code",
   "execution_count": null,
   "metadata": {},
   "outputs": [],
   "source": []
  }
 ],
 "metadata": {
  "kernelspec": {
   "display_name": "Python 3",
   "language": "python",
   "name": "python3"
  },
  "language_info": {
   "codemirror_mode": {
    "name": "ipython",
    "version": 3
   },
   "file_extension": ".py",
   "mimetype": "text/x-python",
   "name": "python",
   "nbconvert_exporter": "python",
   "pygments_lexer": "ipython3",
   "version": "3.7.7"
  }
 },
 "nbformat": 4,
 "nbformat_minor": 4
}
